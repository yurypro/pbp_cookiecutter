{
 "cells": [
  {
   "cell_type": "markdown",
   "metadata": {},
   "source": [
    "## {{cookiecutter.project_name}}\n",
    "\n",
    "{{cookiecutter.description}}\n",
    "\n",
    "This notebook contains basic statistical analysis and visualization of the data.\n",
    "\n",
    "### Data Sources\n",
    "- summary : Processed file from notebook 1-Data_Prep\n",
    "\n",
    "### Changes\n",
    "- {% now 'utc', '%m-%d-%Y' %} : Started project"
   ]
  },
  {
   "cell_type": "code",
   "execution_count": null,
   "metadata": {},
   "outputs": [],
   "source": [
    "import pandas as pd\n",
    "from pathlib import Path\n",
    "from datetime import datetime\n",
    "import seaborn as sns\n",
    "import numpy as np\n",
    "from xlsxwriter.utility import xl_rowcol_to_cell"
   ]
  },
  {
   "cell_type": "code",
   "execution_count": null,
   "metadata": {},
   "outputs": [],
   "source": [
    "%matplotlib inline"
   ]
  },
  {
   "cell_type": "markdown",
   "metadata": {},
   "source": [
    "### File Locations"
   ]
  },
  {
   "cell_type": "code",
   "execution_count": null,
   "metadata": {},
   "outputs": [],
   "source": [
    "today = datetime.today()\n",
    "in_file = Path.cwd() / \"data\" / \"processed\" / f\"summary_{today:%b-%d-%Y}.pkl\"\n",
    "report_dir = Path.cwd() / \"reports\"\n",
    "report_file = report_dir / f\"Excel_Analysis_{today:%b-%d-%Y}.xlsx\""
   ]
  },
  {
   "cell_type": "code",
   "execution_count": null,
   "metadata": {},
   "outputs": [],
   "source": [
    "df = pd.read_pickle(in_file)"
   ]
  },
  {
   "cell_type": "markdown",
   "metadata": {},
   "source": [
    "### Perform Data Analysis"
   ]
  },
  {
   "cell_type": "code",
   "execution_count": null,
   "metadata": {},
   "outputs": [],
   "source": []
  },
  {
   "cell_type": "markdown",
   "metadata": {},
   "source": [
    "### Save Excel file into reports directory\n",
    "\n",
    "Save an Excel file with intermediate results into the report directory"
   ]
  },
  {
   "cell_type": "code",
   "execution_count": null,
   "metadata": {},
   "outputs": [],
   "source": [
    "# functions to format excel\n",
    "def calc_widths(df):\n",
    "    widths = {}\n",
    "    for col in df.columns:\n",
    "        col_len = len(col)\n",
    "        if df[col].dtype == np.int64 or df[col].dtype == np.float64 or \\\n",
    "            df[col].dtype == np.dtype('datetime64[ns]'):\n",
    "            col_text = df[col].apply(str)\n",
    "        else:\n",
    "            col_text = df[col]\n",
    "        max_col = col_text.str.len().max()\n",
    "        if np.isnan(max(max_col, col_len)):\n",
    "            widths[col] = col_len + 3\n",
    "        else:\n",
    "            widths[col] = max(max_col, col_len) + 3\n",
    "    return widths\n",
    "\n",
    "\n",
    "def format_excel(writer, sheet_name, startcol, columns, widths, df_size):\n",
    "    workbook = writer.book\n",
    "    worksheet = writer.sheets[sheet_name]\n",
    "    for i, col in enumerate(columns):\n",
    "        worksheet.set_column(i + startcol, i + startcol, widths[col])\n",
    "    table_start = xl_rowcol_to_cell(0, startcol)\n",
    "    table_end = xl_rowcol_to_cell(df_size[0], df_size[1] -1 + startcol)\n",
    "    table_range = '{}:{}'.format(table_start, table_end)\n",
    "    cols = [{'header': cl} for cl in columns]\n",
    "    worksheet.add_table(table_range, {'columns': cols,\n",
    "                                      'autofilter': True,\n",
    "                                      'total_row': False,\n",
    "                                      'style': 'Table Style Medium 4'})"
   ]
  },
  {
   "cell_type": "code",
   "execution_count": null,
   "metadata": {},
   "outputs": [],
   "source": [
    "writer = pd.ExcelWriter(report_file, engine='xlsxwriter')\n",
    "sheet_name = 'Sheet1'\n",
    "df.to_excel(writer, sheet_name, startcol = 0,\n",
    "                    startrow=0, index=False)\n",
    "format_excel(writer, sheet_name, 0, df.columns,\n",
    "                 calc_widths(df), df.shape)\n",
    "writer.save()"
   ]
  },
  {
   "cell_type": "markdown",
   "metadata": {},
   "source": [
    "### Save Excel file into reports directory - without additonal formatting"
   ]
  },
  {
   "cell_type": "code",
   "execution_count": null,
   "metadata": {},
   "outputs": [],
   "source": [
    "writer = pd.ExcelWriter(report_file, engine='xlsxwriter')"
   ]
  },
  {
   "cell_type": "code",
   "execution_count": null,
   "metadata": {},
   "outputs": [],
   "source": [
    "df.to_excel(writer, sheet_name='Report')"
   ]
  },
  {
   "cell_type": "code",
   "execution_count": null,
   "metadata": {},
   "outputs": [],
   "source": [
    "writer.save()"
   ]
  }
 ],
 "metadata": {
  "kernelspec": {
   "display_name": "Python 3",
   "language": "python",
   "name": "python3"
  },
  "language_info": {
   "codemirror_mode": {
    "name": "ipython",
    "version": 3
   },
   "file_extension": ".py",
   "mimetype": "text/x-python",
   "name": "python",
   "nbconvert_exporter": "python",
   "pygments_lexer": "ipython3",
   "version": "3.7.3"
  }
 },
 "nbformat": 4,
 "nbformat_minor": 2
}
